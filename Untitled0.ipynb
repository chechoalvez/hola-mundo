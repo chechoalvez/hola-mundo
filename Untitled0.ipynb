{
  "nbformat": 4,
  "nbformat_minor": 0,
  "metadata": {
    "colab": {
      "provenance": [],
      "authorship_tag": "ABX9TyM70WjerWHXegPOnREx80Fn",
      "include_colab_link": true
    },
    "kernelspec": {
      "name": "python3",
      "display_name": "Python 3"
    },
    "language_info": {
      "name": "python"
    }
  },
  "cells": [
    {
      "cell_type": "markdown",
      "metadata": {
        "id": "view-in-github",
        "colab_type": "text"
      },
      "source": [
        "<a href=\"https://colab.research.google.com/github/chechoalvez/hola-mundo/blob/master/Untitled0.ipynb\" target=\"_parent\"><img src=\"https://colab.research.google.com/assets/colab-badge.svg\" alt=\"Open In Colab\"/></a>"
      ]
    },
    {
      "cell_type": "code",
      "source": [],
      "metadata": {
        "colab": {
          "base_uri": "https://localhost:8080/"
        },
        "id": "MBDwXipbsKQz",
        "outputId": "7171567b-8e4e-4233-8ee9-fe98deb1236d"
      },
      "execution_count": null,
      "outputs": [
        {
          "output_type": "stream",
          "name": "stdout",
          "text": [
            "escriba el precio: 100\n",
            "el precio final es:85.0\n"
          ]
        }
      ]
    },
    {
      "cell_type": "code",
      "source": [
        "#condicionales\n",
        "numero= int(input(\"digite un numero: \"))\n",
        "if numero > 0:\n",
        "  print(\"el numero es positivo\")\n",
        "elif numero == 0:\n",
        "  print(\"el numero es cero\")\n",
        "else:\n",
        "  print(\"el numero es negativo\")\n"
      ],
      "metadata": {
        "colab": {
          "base_uri": "https://localhost:8080/"
        },
        "id": "ILFXxEJwmFAs",
        "outputId": "85bcae95-8451-40f3-a6df-c76d86826477"
      },
      "execution_count": 2,
      "outputs": [
        {
          "output_type": "stream",
          "name": "stdout",
          "text": [
            "digite un numero: 0\n",
            "el numero es cero\n"
          ]
        }
      ]
    }
  ]
}